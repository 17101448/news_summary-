{
 "cells": [
  {
   "cell_type": "code",
   "execution_count": 1,
   "metadata": {},
   "outputs": [
    {
     "name": "stdout",
     "output_type": "stream",
     "text": [
      "section url :  https://news.naver.com/main/list.nhn?mode=LSD&mid=sec&sid1=100\n",
      "section url :  https://news.naver.com/main/list.nhn?mode=LSD&mid=sec&sid1=101\n",
      "section url :  https://news.naver.com/main/list.nhn?mode=LSD&mid=sec&sid1=102\n"
     ]
    }
   ],
   "source": [
    "for sid in ['100', '101', '102']:\n",
    "    # 해당 분야 상위 뉴스 목록 주소\n",
    "    sec_url = \"https://news.naver.com/main/list.nhn?mode=LSD&mid=sec\" \\\n",
    "                + \"&sid1=\" \\\n",
    "                + sid \\\n",
    "             \n",
    "    print(\"section url : \", sec_url)"
   ]
  },
  {
   "cell_type": "code",
   "execution_count": 2,
   "metadata": {},
   "outputs": [],
   "source": [
    "import requests \n",
    "from bs4  import BeautifulSoup \n",
    "import bs4.element\n",
    "import datetime"
   ]
  },
  {
   "cell_type": "code",
   "execution_count": 18,
   "metadata": {},
   "outputs": [
    {
     "name": "stdout",
     "output_type": "stream",
     "text": [
      "{'title': '김건희 여사, 추모음악회 참석…이번주 일정만 6개', 'date': '18분전', 'news_url': 'https://n.news.naver.com/mnews/article/018/0005245721?sid=100', 'image_url': 'https://imgnews.pstatic.net/image/origin/018/2022/06/18/5245721.jpg?type=ofullfill106_72', 'Tests': '김건희 여사, 추모음악회 참석…이번주 일정만 6개'}\n",
      "{'title': '김건희 여사, 순직 故 심정민 소령 추모 음악회 참석', 'date': '23분전', 'news_url': 'https://n.news.naver.com/mnews/article/001/0013253991?sid=100', 'image_url': 'https://imgnews.pstatic.net/image/origin/001/2022/06/18/13253991.jpg?type=ofullfill106_72', 'Tests': '김건희 여사, 순직 故 심정민 소령 추모 음악회 참석'}\n",
      "{'title': '고향 음성 방문 김동연 경기지사 당선자 \"당당하고 인정받겠다\"', 'date': '25분전', 'news_url': 'https://n.news.naver.com/mnews/article/003/0011254626?sid=100', 'image_url': 'https://imgnews.pstatic.net/image/origin/003/2022/06/18/11254626.jpg?type=ofullfill106_72', 'Tests': '고향 음성 방문 김동연 경기지사 당선자 \"당당하고 인정받겠다\"'}\n",
      "{'title': '김건희, 故심정민 추모음악회 찾아 \"고귀한 희생, 韓 지킨 정신돼\"', 'date': '31분전', 'news_url': 'https://n.news.naver.com/mnews/article/025/0003203268?sid=100', 'image_url': 'https://imgnews.pstatic.net/image/origin/025/2022/06/18/3203268.jpg?type=ofullfill106_72', 'Tests': '김건희, 故심정민 추모음악회 찾아 \"고귀한 희생, 韓 지킨 정신돼\"'}\n",
      "{'title': '이재명, 개딸에 또 \\'자제\\' 요청 \"과격 표현, 적개심만 강화\"', 'date': '44분전', 'news_url': 'https://n.news.naver.com/mnews/article/079/0003655098?sid=100', 'image_url': 'https://imgnews.pstatic.net/image/origin/079/2022/06/18/3655098.jpg?type=ofullfill106_72', 'Tests': '이재명, 개딸에 또 \\'자제\\' 요청 \"과격 표현, 적개심만 강화\"'}\n",
      "{'title': '“피살 공무원보다 먹고사는 문제 급해” 우상호 발언 뭇매', 'date': '46분전', 'news_url': 'https://n.news.naver.com/mnews/article/023/0003698351?sid=100', 'image_url': 'https://imgnews.pstatic.net/image/origin/023/2022/06/18/3698351.jpg?type=ofullfill106_72', 'Tests': '“피살 공무원보다 먹고사는 문제 급해” 우상호 발언 뭇매'}\n",
      "{'title': \"[뉴스추적] '서해 공무원 피격' 그날의 진실은?\", 'date': '54분전', 'news_url': 'https://n.news.naver.com/mnews/article/057/0001671121?sid=100', 'image_url': 'https://imgnews.pstatic.net/image/origin/057/2022/06/18/1671121.jpg?type=ofullfill106_72', 'Tests': \"[뉴스추적] '서해 공무원 피격' 그날의 진실은?\"}\n",
      "{'title': '외교부, \\'우크라군 가담 한국인 4명 사망설\\'에 \"사실관계 확인 중\"', 'date': '1시간전\\t', 'news_url': 'https://n.news.naver.com/mnews/article/052/0001753255?sid=100', 'image_url': 'https://imgnews.pstatic.net/image/origin/052/2022/06/18/1753255.jpg?type=ofullfill106_72', 'Tests': '외교부, \\'우크라군 가담 한국인 4명 사망설\\'에 \"사실관계 확인 중\"'}\n",
      "{'title': '한미일, 北 압박 수위 높인다...6년 만에 탄도미사일 추적 훈련', 'date': '1시간전\\t', 'news_url': 'https://n.news.naver.com/mnews/article/052/0001753251?sid=100', 'image_url': 'https://imgnews.pstatic.net/image/origin/052/2022/06/18/1753251.jpg?type=ofullfill106_72', 'Tests': '한미일, 北 압박 수위 높인다...6년 만에 탄도미사일 추적 훈련'}\n",
      "{'title': '이재오 “이준석, SNS 끊고 말 줄여야…당대표 처음이라 잘 몰라”', 'date': '1시간전\\t', 'news_url': 'https://n.news.naver.com/mnews/article/023/0003698350?sid=100', 'image_url': 'https://imgnews.pstatic.net/image/origin/023/2022/06/18/3698350.jpg?type=ofullfill106_72', 'Tests': '이재오 “이준석, SNS 끊고 말 줄여야…당대표 처음이라 잘 몰라”'}\n"
     ]
    }
   ],
   "source": [
    "sid = \"100\"\n",
    "\n",
    "base_url = \"https://news.naver.com/main/list.nhn?mode=LSD&mid=sec\" \\\n",
    "                + \"&sid1=\" \\\n",
    "                + sid \n",
    "headers = {\"User-Agent\": \"Mozilla/5.0 (Windows NT 10.0; Win64; x64) AppleWebKit/537.36 (KHTML, like Gecko) Chrome/87.0.4280.88 Safari/537.36\"}\n",
    "# web page information \n",
    "res = requests.get(base_url, headers = headers)\n",
    "# parsing \n",
    "soup = BeautifulSoup(res.text, 'html.parser')\n",
    "lis3 = soup.find('ul', class_='type06_headline').find_all(\"li\", limit=10)\n",
    "\n",
    "\n",
    "for li in lis3:\n",
    "    # title : 뉴스 제목, news_url : 뉴스 URL, image_url : 이미지 URL\n",
    "    news_info = {\n",
    "        \"title\" : li.img.attrs.get('alt') if li.img else li.a.text.replace(\"\\n\", \"\").replace(\"\\t\",\"\").replace(\"\\r\",\"\") ,\n",
    "        \"date\" : li.find(class_=\"date\").text,\n",
    "        \"news_url\" : li.a.attrs.get('href'),\n",
    "        \"image_url\" : li.img.attrs.get('src') if li.img else default_img,\n",
    "        \"Tests\" : li.img[\"alt\"]\n",
    "    }\n",
    "    print(news_info)\n",
    "\n",
    "\n",
    "\n"
   ]
  },
  {
   "cell_type": "code",
   "execution_count": null,
   "metadata": {},
   "outputs": [],
   "source": [
    "test example "
   ]
  },
  {
   "cell_type": "code",
   "execution_count": 61,
   "metadata": {},
   "outputs": [
    {
     "name": "stdout",
     "output_type": "stream",
     "text": [
      "https://imgnews.pstatic.net/image/origin/018/2022/06/18/5245721.jpg?type=ofullfill106_72\n",
      "https://n.news.naver.com/mnews/article/018/0005245721?sid=100\n",
      "https://imgnews.pstatic.net/image/origin/001/2022/06/18/13253991.jpg?type=ofullfill106_72\n",
      "https://n.news.naver.com/mnews/article/001/0013253991?sid=100\n",
      "https://imgnews.pstatic.net/image/origin/003/2022/06/18/11254626.jpg?type=ofullfill106_72\n",
      "https://n.news.naver.com/mnews/article/003/0011254626?sid=100\n",
      "https://imgnews.pstatic.net/image/origin/025/2022/06/18/3203268.jpg?type=ofullfill106_72\n",
      "https://n.news.naver.com/mnews/article/025/0003203268?sid=100\n",
      "https://imgnews.pstatic.net/image/origin/079/2022/06/18/3655098.jpg?type=ofullfill106_72\n",
      "https://n.news.naver.com/mnews/article/079/0003655098?sid=100\n",
      "https://imgnews.pstatic.net/image/origin/023/2022/06/18/3698351.jpg?type=ofullfill106_72\n",
      "https://n.news.naver.com/mnews/article/023/0003698351?sid=100\n",
      "https://imgnews.pstatic.net/image/origin/057/2022/06/18/1671121.jpg?type=ofullfill106_72\n",
      "https://n.news.naver.com/mnews/article/057/0001671121?sid=100\n",
      "https://imgnews.pstatic.net/image/origin/052/2022/06/18/1753255.jpg?type=ofullfill106_72\n",
      "https://n.news.naver.com/mnews/article/052/0001753255?sid=100\n",
      "https://imgnews.pstatic.net/image/origin/052/2022/06/18/1753251.jpg?type=ofullfill106_72\n",
      "https://n.news.naver.com/mnews/article/052/0001753251?sid=100\n",
      "https://imgnews.pstatic.net/image/origin/023/2022/06/18/3698350.jpg?type=ofullfill106_72\n",
      "https://n.news.naver.com/mnews/article/023/0003698350?sid=100\n"
     ]
    }
   ],
   "source": [
    "for li in lis3:\n",
    "    title = li.img[\"alt\"]\n",
    "    img_src  = li.img.get(\"src\")\n",
    "    link = li.a.attrs.get('href')\n",
    "    print(img_src)\n",
    "    print(link)\n",
    "    "
   ]
  },
  {
   "cell_type": "markdown",
   "metadata": {},
   "source": [
    "test code : \n",
    "news ranking  information crawling "
   ]
  },
  {
   "cell_type": "code",
   "execution_count": 72,
   "metadata": {},
   "outputs": [],
   "source": [
    "sid = \"100\"\n",
    "\n",
    "base_url = \"https://news.naver.com/main/ranking/popularDay.naver?mid=etc&sid1=111\" \\\n",
    "\n",
    "headers = {\"User-Agent\": \"Mozilla/5.0 (Windows NT 10.0; Win64; x64) AppleWebKit/537.36 (KHTML, like Gecko) Chrome/87.0.4280.88 Safari/537.36\"}\n",
    "# web page information \n",
    "res = requests.get(base_url, headers = headers)\n",
    "# parsing \n",
    "soup = BeautifulSoup(res.text, 'html.parser')\n",
    "lis4 = soup.find('ul', class_='rankingnews_list').find_all(\"li\", limit=50)\n",
    "\n"
   ]
  },
  {
   "cell_type": "code",
   "execution_count": 84,
   "metadata": {},
   "outputs": [
    {
     "data": {
      "text/plain": [
       "[{'title': '\"당장 쓸 생활비도 없어\"…\\'최악의 고물가\\'에 은퇴 못하는 캐나다 장년들',\n",
       "  'links': 'https://n.news.naver.com/article/277/0005105126?ntype=RANKING',\n",
       "  'upload_time': '9시간전',\n",
       "  'img_src': 'https://mimgnews.pstatic.net/image/origin/277/2022/06/18/5105126.jpg?type=nf70_70'},\n",
       " {'title': '러 \\'반도체 가스\\' 무기화에 \"韓 먼저 타격…中 이득 볼 것\"',\n",
       "  'links': 'https://n.news.naver.com/article/277/0005105159?ntype=RANKING',\n",
       "  'upload_time': '4시간전',\n",
       "  'img_src': 'https://mimgnews.pstatic.net/image/origin/277/2022/06/18/5105159.jpg?type=nf70_70'},\n",
       " {'title': '44% \"1년간 집값 하락\" vs 27% \"상승\"…3년만에 대세 엇갈렸다',\n",
       "  'links': 'https://n.news.naver.com/article/277/0005105157?ntype=RANKING',\n",
       "  'upload_time': '4시간전',\n",
       "  'img_src': 'https://mimgnews.pstatic.net/image/origin/277/2022/06/18/5105157.jpg?type=nf70_70'},\n",
       " {'title': '1020회 로또 1등 13명…당첨금 각 19억7000만원',\n",
       "  'links': 'https://n.news.naver.com/article/277/0005105163?ntype=RANKING',\n",
       "  'upload_time': '2시간전',\n",
       "  'img_src': 'https://mimgnews.pstatic.net/image/origin/277/2022/06/18/5105163.jpg?type=nf70_70'},\n",
       " {'title': '\"우크라군 가담 한국인 4명 사망\"…외교부, \"사실관계 확인중\"(종합)',\n",
       "  'links': 'https://n.news.naver.com/article/277/0005105168?ntype=RANKING',\n",
       "  'upload_time': '2시간전',\n",
       "  'img_src': 'https://mimgnews.pstatic.net/image/origin/277/2022/06/18/5105168.jpg?type=nf70_70'}]"
      ]
     },
     "execution_count": 84,
     "metadata": {},
     "output_type": "execute_result"
    }
   ],
   "source": [
    "news_list=[] \n",
    "\n",
    "for li in lis4:\n",
    "    news_info = {\n",
    "        \"title\" : li.a.string,\n",
    "        \"links\" : li.a[\"href\"],\n",
    "        \"upload_time\" : li.span.string,\n",
    "        \"img_src\" : li.img[\"src\"]\n",
    "\n",
    "    }\n",
    "    news_list.append(news_info)\n",
    "\n",
    "\n",
    "news_list \n",
    "\n",
    "    "
   ]
  },
  {
   "cell_type": "code",
   "execution_count": null,
   "metadata": {},
   "outputs": [],
   "source": [
    "new_link = news_list[0][\"\"]"
   ]
  }
 ],
 "metadata": {
  "kernelspec": {
   "display_name": "Python 3.6.5 ('gpu')",
   "language": "python",
   "name": "python3"
  },
  "language_info": {
   "codemirror_mode": {
    "name": "ipython",
    "version": 3
   },
   "file_extension": ".py",
   "mimetype": "text/x-python",
   "name": "python",
   "nbconvert_exporter": "python",
   "pygments_lexer": "ipython3",
   "version": "3.6.5"
  },
  "orig_nbformat": 4,
  "vscode": {
   "interpreter": {
    "hash": "04643d0c2eeda6e9a9df4a3bbbbba18dc407ff89ce4791235b93095c9df7e641"
   }
  }
 },
 "nbformat": 4,
 "nbformat_minor": 2
}
